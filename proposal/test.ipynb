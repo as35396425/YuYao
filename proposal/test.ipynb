{
 "metadata": {
  "language_info": {
   "codemirror_mode": {
    "name": "ipython",
    "version": 3
   },
   "file_extension": ".py",
   "mimetype": "text/x-python",
   "name": "python",
   "nbconvert_exporter": "python",
   "pygments_lexer": "ipython3",
   "version": "3.9.2"
  },
  "orig_nbformat": 2,
  "kernelspec": {
   "name": "python392jvsc74a57bd0b88e3f2d3aeb5e74b003c2f1f625189d8fe8c36b02eb33076472483e47539bf1",
   "display_name": "Python 3.9.2 64-bit"
  }
 },
 "nbformat": 4,
 "nbformat_minor": 2,
 "cells": [
  {
   "source": [
    "from bs4 import BeautifulSoup\n",
    "import requests\n",
    "import random\n",
    "import sys\n",
    "import time\n",
    "import urllib3\n",
    "import urllib\n",
    "import lxml\n",
    "\n"
   ],
   "cell_type": "code",
   "metadata": {},
   "execution_count": 2,
   "outputs": []
  },
  {
   "source": [
    "url = 'https://shopee.tw/api/v4/search/product_labels'\n",
    "\n",
    "def get_reso(url):\n",
    "    keyword = \"RTX2070\"\n",
    "    headers = {\n",
    "    'user-agent': 'Mozilla/5.0 (Windows NT 10.0; Win64; x64) AppleWebKit/537.36 (KHTML, like Gecko) Chrome/88.0.4324.150 Safari/537.36 Edg/88.0.705.68',\n",
    "    'x-api-source': 'pc',\n",
    "    'referer': f'https://shopee.tw/search?keyword={urllib.parse.quote(keyword)}'\n",
    "                }\n",
    "    s = requests.Session()\n",
    "    r = s.get(url, headers=headers)\n",
    "    r=r.text\n",
    "    return r\n"
   ],
   "cell_type": "code",
   "metadata": {},
   "execution_count": 3,
   "outputs": []
  },
  {
   "cell_type": "code",
   "execution_count": 6,
   "metadata": {},
   "outputs": [],
   "source": []
  }
 ]
}